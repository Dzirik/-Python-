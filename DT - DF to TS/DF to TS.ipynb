{
 "cells": [
  {
   "cell_type": "markdown",
   "metadata": {},
   "source": [
    "# DF to TS\n",
    "\n",
    "Potřebuji převést data frame na time series nějak.\n",
    "\n",
    "[creating series](https://stackoverflow.com/questions/17841149/pandas-groupby-how-to-get-a-union-of-strings)  \n",
    "[dictionary](https://stackoverflow.com/questions/49017178/pandas-dataframe-groupby-to-dictionary-with-multiple-columns-for-value)  \n",
    "[pd.to_dict](https://pandas.pydata.org/pandas-docs/stable/reference/api/pandas.DataFrame.to_dict.html)"
   ]
  },
  {
   "cell_type": "code",
   "execution_count": 1,
   "metadata": {},
   "outputs": [],
   "source": [
    "import numpy as np\n",
    "import pandas as pd"
   ]
  },
  {
   "cell_type": "code",
   "execution_count": 2,
   "metadata": {},
   "outputs": [],
   "source": [
    "def create_df_for_testing():\n",
    "    df = pd.DataFrame()\n",
    "    df[\"B\"] = [\"B1\", \"B2\", \"B1\", \"B3\", \"B1\", \"B2\"]\n",
    "    df[\"T\"] = [1, 2, 1, 3, 2, 1]\n",
    "    df[\"D\"] = [\"D1\", \"D2\", \"D1\", \"D1\", \"D3\", \"D3\"]\n",
    "    df[\"V\"] = [1.1, 2.6, 3.1, 6.2, 4.5, 8.0]\n",
    "\n",
    "    return df"
   ]
  },
  {
   "cell_type": "code",
   "execution_count": 3,
   "metadata": {},
   "outputs": [
    {
     "data": {
      "text/html": [
       "<div>\n",
       "<style scoped>\n",
       "    .dataframe tbody tr th:only-of-type {\n",
       "        vertical-align: middle;\n",
       "    }\n",
       "\n",
       "    .dataframe tbody tr th {\n",
       "        vertical-align: top;\n",
       "    }\n",
       "\n",
       "    .dataframe thead th {\n",
       "        text-align: right;\n",
       "    }\n",
       "</style>\n",
       "<table border=\"1\" class=\"dataframe\">\n",
       "  <thead>\n",
       "    <tr style=\"text-align: right;\">\n",
       "      <th></th>\n",
       "      <th>B</th>\n",
       "      <th>T</th>\n",
       "      <th>D</th>\n",
       "      <th>V</th>\n",
       "    </tr>\n",
       "  </thead>\n",
       "  <tbody>\n",
       "    <tr>\n",
       "      <th>0</th>\n",
       "      <td>B1</td>\n",
       "      <td>1</td>\n",
       "      <td>D1</td>\n",
       "      <td>1.1</td>\n",
       "    </tr>\n",
       "    <tr>\n",
       "      <th>1</th>\n",
       "      <td>B2</td>\n",
       "      <td>2</td>\n",
       "      <td>D2</td>\n",
       "      <td>2.6</td>\n",
       "    </tr>\n",
       "    <tr>\n",
       "      <th>2</th>\n",
       "      <td>B1</td>\n",
       "      <td>1</td>\n",
       "      <td>D1</td>\n",
       "      <td>3.1</td>\n",
       "    </tr>\n",
       "    <tr>\n",
       "      <th>3</th>\n",
       "      <td>B3</td>\n",
       "      <td>3</td>\n",
       "      <td>D1</td>\n",
       "      <td>6.2</td>\n",
       "    </tr>\n",
       "    <tr>\n",
       "      <th>4</th>\n",
       "      <td>B1</td>\n",
       "      <td>2</td>\n",
       "      <td>D3</td>\n",
       "      <td>4.5</td>\n",
       "    </tr>\n",
       "    <tr>\n",
       "      <th>5</th>\n",
       "      <td>B2</td>\n",
       "      <td>1</td>\n",
       "      <td>D3</td>\n",
       "      <td>8.0</td>\n",
       "    </tr>\n",
       "  </tbody>\n",
       "</table>\n",
       "</div>"
      ],
      "text/plain": [
       "    B  T   D    V\n",
       "0  B1  1  D1  1.1\n",
       "1  B2  2  D2  2.6\n",
       "2  B1  1  D1  3.1\n",
       "3  B3  3  D1  6.2\n",
       "4  B1  2  D3  4.5\n",
       "5  B2  1  D3  8.0"
      ]
     },
     "execution_count": 3,
     "metadata": {},
     "output_type": "execute_result"
    }
   ],
   "source": [
    "df = create_df_for_testing()\n",
    "df"
   ]
  },
  {
   "cell_type": "code",
   "execution_count": 8,
   "metadata": {},
   "outputs": [],
   "source": [
    "from Timerer import Timerer\n",
    "import pandas as pd\n",
    "\n",
    "class ToTSTransformator():\n",
    "    def __init__(self):\n",
    "        self.tr = Timerer()\n",
    "    \n",
    "    def transform_to_ts(self, df, atr_groupby, atr_time, atr_value):\n",
    "        \"\"\"\n",
    "        :param df: DataFrame.\n",
    "        :param atr_groupby: String.\n",
    "        :param atr_time: String.\n",
    "        :param atr_value: String.\n",
    "        \n",
    "        :return: DataFrame.\n",
    "        \"\"\"\n",
    "        self.tr.set_initial_timestamp(print_results=False)\n",
    "        \n",
    "        df_res = df.groupby(\n",
    "            by=atr_groupby, \n",
    "            as_index=True\n",
    "        )[[atr_time, atr_value]].apply(lambda r: list(map(tuple, r.values.tolist())))\n",
    "        df_res = df_res.to_frame()\n",
    "        df_res.reset_index(inplace=True) \n",
    "        df_rescolumns = [atr_groupby, \"TS_\"+atr_value]\n",
    "        \n",
    "        self.tr.set_final_timestamp(label=\"Tranformation to TS\", print_results=True)\n",
    "        \n",
    "        return df_res"
   ]
  },
  {
   "cell_type": "code",
   "execution_count": 9,
   "metadata": {},
   "outputs": [],
   "source": [
    "t = ToTSTransformator()"
   ]
  },
  {
   "cell_type": "code",
   "execution_count": 10,
   "metadata": {},
   "outputs": [
    {
     "name": "stdout",
     "output_type": "stream",
     "text": [
      "Meantime Duration of Tranformation to TS is: 0.0 minutes / 0.01 seconds\n",
      "-Date and Time of Ending Execution: 03/09/2019 13:34:33\n",
      "-Overall Time Duration Is: 0.0 minutes / 0.01 seconds\n"
     ]
    },
    {
     "data": {
      "text/html": [
       "<div>\n",
       "<style scoped>\n",
       "    .dataframe tbody tr th:only-of-type {\n",
       "        vertical-align: middle;\n",
       "    }\n",
       "\n",
       "    .dataframe tbody tr th {\n",
       "        vertical-align: top;\n",
       "    }\n",
       "\n",
       "    .dataframe thead th {\n",
       "        text-align: right;\n",
       "    }\n",
       "</style>\n",
       "<table border=\"1\" class=\"dataframe\">\n",
       "  <thead>\n",
       "    <tr style=\"text-align: right;\">\n",
       "      <th></th>\n",
       "      <th>B</th>\n",
       "      <th>0</th>\n",
       "    </tr>\n",
       "  </thead>\n",
       "  <tbody>\n",
       "    <tr>\n",
       "      <th>0</th>\n",
       "      <td>B1</td>\n",
       "      <td>[(1, D1), (1, D1), (2, D3)]</td>\n",
       "    </tr>\n",
       "    <tr>\n",
       "      <th>1</th>\n",
       "      <td>B2</td>\n",
       "      <td>[(2, D2), (1, D3)]</td>\n",
       "    </tr>\n",
       "    <tr>\n",
       "      <th>2</th>\n",
       "      <td>B3</td>\n",
       "      <td>[(3, D1)]</td>\n",
       "    </tr>\n",
       "  </tbody>\n",
       "</table>\n",
       "</div>"
      ],
      "text/plain": [
       "    B                            0\n",
       "0  B1  [(1, D1), (1, D1), (2, D3)]\n",
       "1  B2           [(2, D2), (1, D3)]\n",
       "2  B3                    [(3, D1)]"
      ]
     },
     "execution_count": 10,
     "metadata": {},
     "output_type": "execute_result"
    }
   ],
   "source": [
    "t.transform_to_ts(df, \"B\", \"T\", \"D\")"
   ]
  },
  {
   "cell_type": "code",
   "execution_count": 7,
   "metadata": {},
   "outputs": [
    {
     "name": "stdout",
     "output_type": "stream",
     "text": [
      "Meantime Duration of Tranformation to TS is: 0.0 minutes / 0.01 seconds\n",
      "-Date and Time of Ending Execution: 03/09/2019 13:25:21\n",
      "-Overall Time Duration Is: 0.0 minutes / 0.01 seconds\n"
     ]
    },
    {
     "data": {
      "text/html": [
       "<div>\n",
       "<style scoped>\n",
       "    .dataframe tbody tr th:only-of-type {\n",
       "        vertical-align: middle;\n",
       "    }\n",
       "\n",
       "    .dataframe tbody tr th {\n",
       "        vertical-align: top;\n",
       "    }\n",
       "\n",
       "    .dataframe thead th {\n",
       "        text-align: right;\n",
       "    }\n",
       "</style>\n",
       "<table border=\"1\" class=\"dataframe\">\n",
       "  <thead>\n",
       "    <tr style=\"text-align: right;\">\n",
       "      <th></th>\n",
       "      <th>B</th>\n",
       "      <th>0</th>\n",
       "    </tr>\n",
       "  </thead>\n",
       "  <tbody>\n",
       "    <tr>\n",
       "      <th>0</th>\n",
       "      <td>B1</td>\n",
       "      <td>[(1.0, 1.1), (1.0, 3.1), (2.0, 4.5)]</td>\n",
       "    </tr>\n",
       "    <tr>\n",
       "      <th>1</th>\n",
       "      <td>B2</td>\n",
       "      <td>[(2.0, 2.6), (1.0, 8.0)]</td>\n",
       "    </tr>\n",
       "    <tr>\n",
       "      <th>2</th>\n",
       "      <td>B3</td>\n",
       "      <td>[(3.0, 6.2)]</td>\n",
       "    </tr>\n",
       "  </tbody>\n",
       "</table>\n",
       "</div>"
      ],
      "text/plain": [
       "    B                                     0\n",
       "0  B1  [(1.0, 1.1), (1.0, 3.1), (2.0, 4.5)]\n",
       "1  B2              [(2.0, 2.6), (1.0, 8.0)]\n",
       "2  B3                          [(3.0, 6.2)]"
      ]
     },
     "execution_count": 7,
     "metadata": {},
     "output_type": "execute_result"
    }
   ],
   "source": [
    "t.transform_to_ts(df, \"B\", \"T\", \"V\")"
   ]
  }
 ],
 "metadata": {
  "kernelspec": {
   "display_name": "Python 3",
   "language": "python",
   "name": "python3"
  },
  "language_info": {
   "codemirror_mode": {
    "name": "ipython",
    "version": 3
   },
   "file_extension": ".py",
   "mimetype": "text/x-python",
   "name": "python",
   "nbconvert_exporter": "python",
   "pygments_lexer": "ipython3",
   "version": "3.7.3"
  }
 },
 "nbformat": 4,
 "nbformat_minor": 2
}
