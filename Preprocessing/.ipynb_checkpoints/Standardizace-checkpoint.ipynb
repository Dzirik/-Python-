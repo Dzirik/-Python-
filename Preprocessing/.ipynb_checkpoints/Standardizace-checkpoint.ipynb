{
 "cells": [
  {
   "cell_type": "markdown",
   "metadata": {},
   "source": [
    "# Standardizace"
   ]
  },
  {
   "cell_type": "code",
   "execution_count": 7,
   "metadata": {
    "collapsed": true
   },
   "outputs": [],
   "source": [
    "import pandas as pd\n",
    "import numpy as np"
   ]
  },
  {
   "cell_type": "markdown",
   "metadata": {},
   "source": [
    "## Normalizace - pandas\n",
    "\n",
    "* Tady to nějak moc nefunguje. Překvapuje mě, že na to není easy operace."
   ]
  },
  {
   "cell_type": "code",
   "execution_count": 3,
   "metadata": {
    "collapsed": false
   },
   "outputs": [
    {
     "data": {
      "text/html": [
       "<div>\n",
       "<table border=\"1\" class=\"dataframe\">\n",
       "  <thead>\n",
       "    <tr style=\"text-align: right;\">\n",
       "      <th></th>\n",
       "      <th>Jedna</th>\n",
       "      <th>Dva</th>\n",
       "      <th>Tri</th>\n",
       "      <th>Ctyri</th>\n",
       "    </tr>\n",
       "  </thead>\n",
       "  <tbody>\n",
       "    <tr>\n",
       "      <th>0</th>\n",
       "      <td>1</td>\n",
       "      <td>2</td>\n",
       "      <td>3.0</td>\n",
       "      <td>10</td>\n",
       "    </tr>\n",
       "    <tr>\n",
       "      <th>1</th>\n",
       "      <td>2</td>\n",
       "      <td>3</td>\n",
       "      <td>4.0</td>\n",
       "      <td>20</td>\n",
       "    </tr>\n",
       "    <tr>\n",
       "      <th>2</th>\n",
       "      <td>3</td>\n",
       "      <td>4</td>\n",
       "      <td>5.0</td>\n",
       "      <td>30</td>\n",
       "    </tr>\n",
       "  </tbody>\n",
       "</table>\n",
       "</div>"
      ],
      "text/plain": [
       "  Jedna Dva  Tri  Ctyri\n",
       "0     1   2  3.0     10\n",
       "1     2   3  4.0     20\n",
       "2     3   4  5.0     30"
      ]
     },
     "execution_count": 3,
     "metadata": {},
     "output_type": "execute_result"
    }
   ],
   "source": [
    "train_df = pd.DataFrame(\n",
    "    data=[[1,2,3.0,10], [2,3,4.0,20], [3,4,5.0,30]],\n",
    "    columns=[\"Jedna\", \"Dva\", \"Tri\", \"Ctyri\"]\n",
    ")\n",
    "dtypes = {\"Jedna\": \"category\", \"Dva\": \"category\", \"Tri\": \"f8\", \"Ctyri\":\"int8\"}\n",
    "\n",
    "for c in train_df.columns:\n",
    "    train_df[c] = train_df[c].astype(dtypes[c])\n",
    "\n",
    "#for c in train_df.columns:    \n",
    "#    print (train_df[c].dtype )  #=> int64\n",
    "train_df"
   ]
  },
  {
   "cell_type": "code",
   "execution_count": 4,
   "metadata": {
    "collapsed": false
   },
   "outputs": [
    {
     "data": {
      "text/plain": [
       "Jedna     2.0\n",
       "Dva       3.0\n",
       "Tri       4.0\n",
       "Ctyri    20.0\n",
       "dtype: float64"
      ]
     },
     "execution_count": 4,
     "metadata": {},
     "output_type": "execute_result"
    }
   ],
   "source": [
    "train_df.mean()"
   ]
  },
  {
   "cell_type": "code",
   "execution_count": 5,
   "metadata": {
    "collapsed": false
   },
   "outputs": [
    {
     "data": {
      "text/plain": [
       "Jedna     1.0\n",
       "Dva       1.0\n",
       "Tri       1.0\n",
       "Ctyri    10.0\n",
       "dtype: float64"
      ]
     },
     "execution_count": 5,
     "metadata": {},
     "output_type": "execute_result"
    }
   ],
   "source": [
    "train_df.std()"
   ]
  },
  {
   "cell_type": "code",
   "execution_count": 15,
   "metadata": {
    "collapsed": false
   },
   "outputs": [],
   "source": [
    "#[train_df - train_df.mean()"
   ]
  },
  {
   "cell_type": "code",
   "execution_count": 10,
   "metadata": {
    "collapsed": false
   },
   "outputs": [],
   "source": [
    "#(train_df - train_df.mean())/train_df.std()"
   ]
  },
  {
   "cell_type": "code",
   "execution_count": 12,
   "metadata": {
    "collapsed": false
   },
   "outputs": [],
   "source": [
    "#train_df_norm = (train_df - train_df.mean()) / (train_df.max() - train_df.min())\n",
    "#train_df_norm"
   ]
  },
  {
   "cell_type": "markdown",
   "metadata": {},
   "source": [
    "## Přes sklearn\n",
    "\n",
    "Preprocessing\n",
    "\n",
    "* Tohle je fajn - jsem schopen si uložit tu transformaci zvlášť.\n",
    "\n",
    "preprocessing.scale()\n",
    "* normalizuje, ale neuchová transformaci.\n",
    "\n",
    "preprocessing.StandardScaler()\n",
    "* Uchová transformaci"
   ]
  },
  {
   "cell_type": "code",
   "execution_count": 25,
   "metadata": {
    "collapsed": true
   },
   "outputs": [],
   "source": [
    "from sklearn import preprocessing"
   ]
  },
  {
   "cell_type": "code",
   "execution_count": 26,
   "metadata": {
    "collapsed": false
   },
   "outputs": [
    {
     "name": "stdout",
     "output_type": "stream",
     "text": [
      "[[-1.22474487 -1.22474487 -1.22474487 -1.22474487]\n",
      " [ 0.          0.          0.          0.        ]\n",
      " [ 1.22474487  1.22474487  1.22474487  1.22474487]]\n",
      "[ 0.  0.  0.  0.]\n",
      "[ 1.  1.  1.  1.]\n"
     ]
    }
   ],
   "source": [
    "#this is just a scaler\n",
    "norm_data = preprocessing.scale(train_df)\n",
    "print(norm_data)\n",
    "print(norm_data.mean(axis=0))\n",
    "print(norm_data.std(axis=0))"
   ]
  },
  {
   "cell_type": "markdown",
   "metadata": {},
   "source": [
    "Jako transformace"
   ]
  },
  {
   "cell_type": "code",
   "execution_count": 30,
   "metadata": {
    "collapsed": false
   },
   "outputs": [
    {
     "name": "stdout",
     "output_type": "stream",
     "text": [
      "[  2.   3.   4.  20.]\n",
      "[ 0.81649658  0.81649658  0.81649658  8.16496581]\n"
     ]
    }
   ],
   "source": [
    "scaler = preprocessing.StandardScaler().fit(train_df)\n",
    "print(scaler.mean_)\n",
    "print(scaler.scale_)"
   ]
  },
  {
   "cell_type": "code",
   "execution_count": 31,
   "metadata": {
    "collapsed": false
   },
   "outputs": [
    {
     "name": "stdout",
     "output_type": "stream",
     "text": [
      "[[-1.22474487 -1.22474487 -1.22474487 -1.22474487]\n",
      " [ 0.          0.          0.          0.        ]\n",
      " [ 1.22474487  1.22474487  1.22474487  1.22474487]]\n",
      "[ 0.  0.  0.  0.]\n",
      "[ 1.  1.  1.  1.]\n"
     ]
    }
   ],
   "source": [
    "norm_data = scaler.transform(train_df)\n",
    "print(norm_data)\n",
    "print(norm_data.mean(axis=0))\n",
    "print(norm_data.std(axis=0))"
   ]
  },
  {
   "cell_type": "code",
   "execution_count": 32,
   "metadata": {
    "collapsed": false
   },
   "outputs": [
    {
     "data": {
      "text/plain": [
       "array([[ 0.        ,  0.        ,  0.        ,  2.44948974]])"
      ]
     },
     "execution_count": 32,
     "metadata": {},
     "output_type": "execute_result"
    }
   ],
   "source": [
    "scaler.transform([[2,3,4,40]])"
   ]
  }
 ],
 "metadata": {
  "anaconda-cloud": {},
  "kernelspec": {
   "display_name": "Python [conda root]",
   "language": "python",
   "name": "conda-root-py"
  },
  "language_info": {
   "codemirror_mode": {
    "name": "ipython",
    "version": 3
   },
   "file_extension": ".py",
   "mimetype": "text/x-python",
   "name": "python",
   "nbconvert_exporter": "python",
   "pygments_lexer": "ipython3",
   "version": "3.5.2"
  }
 },
 "nbformat": 4,
 "nbformat_minor": 2
}
