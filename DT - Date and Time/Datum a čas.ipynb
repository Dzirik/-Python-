{
 "cells": [
  {
   "cell_type": "markdown",
   "metadata": {},
   "source": [
    "## Datum a čas"
   ]
  },
  {
   "cell_type": "code",
   "execution_count": 1,
   "metadata": {
    "collapsed": true
   },
   "outputs": [],
   "source": [
    "import datetime\n",
    "import time\n",
    "from time import gmtime, strftime\n",
    "import pandas as pd\n",
    "import random"
   ]
  },
  {
   "cell_type": "markdown",
   "metadata": {},
   "source": [
    "### Aktuální datum a čas"
   ]
  },
  {
   "cell_type": "code",
   "execution_count": 2,
   "metadata": {
    "collapsed": false
   },
   "outputs": [
    {
     "name": "stdout",
     "output_type": "stream",
     "text": [
      "2019-09-16 07-09-40\n",
      "2019-09-16 09-09-40\n"
     ]
    }
   ],
   "source": [
    "from time import gmtime, strftime\n",
    "print(strftime(\"%Y-%m-%d %H-%M-%S\", gmtime()))\n",
    "print(datetime.datetime.now().strftime(\"%Y-%m-%d %H-%M-%S\"))"
   ]
  },
  {
   "cell_type": "markdown",
   "metadata": {},
   "source": [
    "### Datum z jednotlivých dní\n",
    "\n",
    "Použito v:\n",
    "* Vykonia zpracování dat"
   ]
  },
  {
   "cell_type": "code",
   "execution_count": 3,
   "metadata": {
    "collapsed": true
   },
   "outputs": [],
   "source": [
    "#datum ve formátu \"yyyymmddhh24\n",
    "datumString = \"2017030823\""
   ]
  },
  {
   "cell_type": "code",
   "execution_count": 4,
   "metadata": {
    "collapsed": false
   },
   "outputs": [
    {
     "name": "stdout",
     "output_type": "stream",
     "text": [
      "2017-03-08 23:00:00\n",
      "2017-03-12 00:00:00\n"
     ]
    }
   ],
   "source": [
    "#datum jako datetime\n",
    "datum1 = datetime.datetime(\n",
    "    year = int(datumString[0:4]), \n",
    "    month = int(datumString[4:6]), \n",
    "    day = int(datumString[6:8]),\n",
    "    hour = int(datumString[8:10])\n",
    ")\n",
    "datum2 = datetime.datetime.strptime('2017-03-12', '%Y-%m-%d')\n",
    "\n",
    "print(datum1)\n",
    "print(datum2)"
   ]
  },
  {
   "cell_type": "code",
   "execution_count": 5,
   "metadata": {
    "collapsed": false
   },
   "outputs": [
    {
     "name": "stdout",
     "output_type": "stream",
     "text": [
      "1489010400.0\n"
     ]
    }
   ],
   "source": [
    "#timestamp\n",
    "ts = time.mktime(datum1.timetuple())\n",
    "print(ts)"
   ]
  },
  {
   "cell_type": "code",
   "execution_count": 6,
   "metadata": {
    "collapsed": false
   },
   "outputs": [
    {
     "data": {
      "text/plain": [
       "datetime.datetime(2017, 3, 8, 23, 0)"
      ]
     },
     "execution_count": 6,
     "metadata": {},
     "output_type": "execute_result"
    }
   ],
   "source": [
    "#a zpět\n",
    "datetime.datetime.fromtimestamp(ts)"
   ]
  },
  {
   "cell_type": "markdown",
   "metadata": {},
   "source": [
    "### Čísla dnů, týdnů, měsíců"
   ]
  },
  {
   "cell_type": "code",
   "execution_count": 7,
   "metadata": {
    "collapsed": false
   },
   "outputs": [
    {
     "name": "stdout",
     "output_type": "stream",
     "text": [
      "Den týdne: 3\n",
      "Den týdne: Wed\n",
      "Den týdne: Wednesday\n"
     ]
    }
   ],
   "source": [
    "#den týdne\n",
    "print(\"Den týdne:\",datum1.strftime(\"%w\"))\n",
    "print(\"Den týdne:\",datum1.strftime(\"%a\"))\n",
    "print(\"Den týdne:\",datum1.strftime(\"%A\"))"
   ]
  },
  {
   "cell_type": "markdown",
   "metadata": {},
   "source": [
    "### Části"
   ]
  },
  {
   "cell_type": "code",
   "execution_count": 8,
   "metadata": {},
   "outputs": [],
   "source": [
    "datum = datetime.datetime.strptime('2017-03-12', '%Y-%m-%d')"
   ]
  },
  {
   "cell_type": "code",
   "execution_count": 9,
   "metadata": {},
   "outputs": [
    {
     "name": "stdout",
     "output_type": "stream",
     "text": [
      "0\n",
      "12\n",
      "3\n",
      "2017\n"
     ]
    }
   ],
   "source": [
    "print(datum.hour)\n",
    "print(datum.day)\n",
    "print(datum.month)\n",
    "print(datum.year)"
   ]
  },
  {
   "cell_type": "markdown",
   "metadata": {},
   "source": [
    "### Rozdíly"
   ]
  },
  {
   "cell_type": "code",
   "execution_count": 10,
   "metadata": {
    "collapsed": false
   },
   "outputs": [
    {
     "name": "stdout",
     "output_type": "stream",
     "text": [
      "3 days, 1:00:00\n"
     ]
    },
    {
     "data": {
      "text/plain": [
       "datetime.timedelta(days=3, seconds=3600)"
      ]
     },
     "execution_count": 10,
     "metadata": {},
     "output_type": "execute_result"
    }
   ],
   "source": [
    "rozdil = datum2-datum1\n",
    "print(rozdil)\n",
    "rozdil"
   ]
  },
  {
   "cell_type": "code",
   "execution_count": 11,
   "metadata": {
    "collapsed": false
   },
   "outputs": [
    {
     "name": "stdout",
     "output_type": "stream",
     "text": [
      "73.0\n"
     ]
    }
   ],
   "source": [
    "#rozdíl v hodinách\n",
    "print(rozdil.total_seconds()/60/60)"
   ]
  },
  {
   "cell_type": "markdown",
   "metadata": {},
   "source": [
    "## Časová řada"
   ]
  },
  {
   "cell_type": "code",
   "execution_count": 12,
   "metadata": {},
   "outputs": [],
   "source": [
    "import TimeSeriesGenerator as TSG\n",
    "import TimeSeries as TS"
   ]
  },
  {
   "cell_type": "code",
   "execution_count": 13,
   "metadata": {},
   "outputs": [],
   "source": [
    "tsg = TSG.TimeSeriesGenerator()\n",
    "ts = TS.TimeSeries()"
   ]
  },
  {
   "cell_type": "code",
   "execution_count": 14,
   "metadata": {},
   "outputs": [
    {
     "data": {
      "text/html": [
       "<div>\n",
       "<style scoped>\n",
       "    .dataframe tbody tr th:only-of-type {\n",
       "        vertical-align: middle;\n",
       "    }\n",
       "\n",
       "    .dataframe tbody tr th {\n",
       "        vertical-align: top;\n",
       "    }\n",
       "\n",
       "    .dataframe thead th {\n",
       "        text-align: right;\n",
       "    }\n",
       "</style>\n",
       "<table border=\"1\" class=\"dataframe\">\n",
       "  <thead>\n",
       "    <tr style=\"text-align: right;\">\n",
       "      <th></th>\n",
       "      <th>TIME</th>\n",
       "      <th>VALUE</th>\n",
       "    </tr>\n",
       "  </thead>\n",
       "  <tbody>\n",
       "    <tr>\n",
       "      <th>6</th>\n",
       "      <td>2019-08-01</td>\n",
       "      <td>56</td>\n",
       "    </tr>\n",
       "    <tr>\n",
       "      <th>4</th>\n",
       "      <td>2019-08-05</td>\n",
       "      <td>44</td>\n",
       "    </tr>\n",
       "    <tr>\n",
       "      <th>0</th>\n",
       "      <td>2019-08-09</td>\n",
       "      <td>12</td>\n",
       "    </tr>\n",
       "    <tr>\n",
       "      <th>25</th>\n",
       "      <td>2019-08-11</td>\n",
       "      <td>44</td>\n",
       "    </tr>\n",
       "    <tr>\n",
       "      <th>2</th>\n",
       "      <td>2019-08-13</td>\n",
       "      <td>69</td>\n",
       "    </tr>\n",
       "    <tr>\n",
       "      <th>11</th>\n",
       "      <td>2019-08-22</td>\n",
       "      <td>19</td>\n",
       "    </tr>\n",
       "    <tr>\n",
       "      <th>23</th>\n",
       "      <td>2019-08-24</td>\n",
       "      <td>11</td>\n",
       "    </tr>\n",
       "    <tr>\n",
       "      <th>15</th>\n",
       "      <td>2019-08-25</td>\n",
       "      <td>40</td>\n",
       "    </tr>\n",
       "    <tr>\n",
       "      <th>12</th>\n",
       "      <td>2019-08-26</td>\n",
       "      <td>3</td>\n",
       "    </tr>\n",
       "    <tr>\n",
       "      <th>17</th>\n",
       "      <td>2019-08-27</td>\n",
       "      <td>78</td>\n",
       "    </tr>\n",
       "    <tr>\n",
       "      <th>29</th>\n",
       "      <td>2019-08-27</td>\n",
       "      <td>81</td>\n",
       "    </tr>\n",
       "    <tr>\n",
       "      <th>22</th>\n",
       "      <td>2019-08-28</td>\n",
       "      <td>97</td>\n",
       "    </tr>\n",
       "    <tr>\n",
       "      <th>7</th>\n",
       "      <td>2019-08-29</td>\n",
       "      <td>77</td>\n",
       "    </tr>\n",
       "    <tr>\n",
       "      <th>10</th>\n",
       "      <td>2019-08-29</td>\n",
       "      <td>6</td>\n",
       "    </tr>\n",
       "    <tr>\n",
       "      <th>28</th>\n",
       "      <td>2019-09-01</td>\n",
       "      <td>25</td>\n",
       "    </tr>\n",
       "    <tr>\n",
       "      <th>18</th>\n",
       "      <td>2019-09-01</td>\n",
       "      <td>51</td>\n",
       "    </tr>\n",
       "    <tr>\n",
       "      <th>8</th>\n",
       "      <td>2019-09-03</td>\n",
       "      <td>1</td>\n",
       "    </tr>\n",
       "    <tr>\n",
       "      <th>14</th>\n",
       "      <td>2019-09-09</td>\n",
       "      <td>61</td>\n",
       "    </tr>\n",
       "    <tr>\n",
       "      <th>1</th>\n",
       "      <td>2019-09-09</td>\n",
       "      <td>14</td>\n",
       "    </tr>\n",
       "    <tr>\n",
       "      <th>3</th>\n",
       "      <td>2019-09-11</td>\n",
       "      <td>7</td>\n",
       "    </tr>\n",
       "    <tr>\n",
       "      <th>21</th>\n",
       "      <td>2019-09-12</td>\n",
       "      <td>66</td>\n",
       "    </tr>\n",
       "    <tr>\n",
       "      <th>27</th>\n",
       "      <td>2019-09-13</td>\n",
       "      <td>74</td>\n",
       "    </tr>\n",
       "    <tr>\n",
       "      <th>20</th>\n",
       "      <td>2019-09-17</td>\n",
       "      <td>86</td>\n",
       "    </tr>\n",
       "    <tr>\n",
       "      <th>16</th>\n",
       "      <td>2019-09-17</td>\n",
       "      <td>62</td>\n",
       "    </tr>\n",
       "    <tr>\n",
       "      <th>24</th>\n",
       "      <td>2019-09-22</td>\n",
       "      <td>34</td>\n",
       "    </tr>\n",
       "    <tr>\n",
       "      <th>19</th>\n",
       "      <td>2019-09-22</td>\n",
       "      <td>69</td>\n",
       "    </tr>\n",
       "    <tr>\n",
       "      <th>5</th>\n",
       "      <td>2019-09-23</td>\n",
       "      <td>32</td>\n",
       "    </tr>\n",
       "    <tr>\n",
       "      <th>9</th>\n",
       "      <td>2019-09-24</td>\n",
       "      <td>58</td>\n",
       "    </tr>\n",
       "    <tr>\n",
       "      <th>26</th>\n",
       "      <td>2019-09-29</td>\n",
       "      <td>10</td>\n",
       "    </tr>\n",
       "    <tr>\n",
       "      <th>13</th>\n",
       "      <td>2019-09-30</td>\n",
       "      <td>56</td>\n",
       "    </tr>\n",
       "  </tbody>\n",
       "</table>\n",
       "</div>"
      ],
      "text/plain": [
       "         TIME  VALUE\n",
       "6  2019-08-01     56\n",
       "4  2019-08-05     44\n",
       "0  2019-08-09     12\n",
       "25 2019-08-11     44\n",
       "2  2019-08-13     69\n",
       "11 2019-08-22     19\n",
       "23 2019-08-24     11\n",
       "15 2019-08-25     40\n",
       "12 2019-08-26      3\n",
       "17 2019-08-27     78\n",
       "29 2019-08-27     81\n",
       "22 2019-08-28     97\n",
       "7  2019-08-29     77\n",
       "10 2019-08-29      6\n",
       "28 2019-09-01     25\n",
       "18 2019-09-01     51\n",
       "8  2019-09-03      1\n",
       "14 2019-09-09     61\n",
       "1  2019-09-09     14\n",
       "3  2019-09-11      7\n",
       "21 2019-09-12     66\n",
       "27 2019-09-13     74\n",
       "20 2019-09-17     86\n",
       "16 2019-09-17     62\n",
       "24 2019-09-22     34\n",
       "19 2019-09-22     69\n",
       "5  2019-09-23     32\n",
       "9  2019-09-24     58\n",
       "26 2019-09-29     10\n",
       "13 2019-09-30     56"
      ]
     },
     "execution_count": 14,
     "metadata": {},
     "output_type": "execute_result"
    }
   ],
   "source": [
    "ts.set_ts_list(tsg.generate_day_data(), [\"TIME\", \"VALUE\"])\n",
    "ts_d = ts.get_ts_df()\n",
    "ts_d"
   ]
  },
  {
   "cell_type": "code",
   "execution_count": 15,
   "metadata": {},
   "outputs": [
    {
     "data": {
      "text/plain": [
       "<DatetimeArray>\n",
       "['2019-08-01 00:00:00', '2019-08-05 00:00:00', '2019-08-09 00:00:00',\n",
       " '2019-08-11 00:00:00', '2019-08-13 00:00:00', '2019-08-22 00:00:00',\n",
       " '2019-08-24 00:00:00', '2019-08-25 00:00:00', '2019-08-26 00:00:00',\n",
       " '2019-08-27 00:00:00', '2019-08-27 00:00:00', '2019-08-28 00:00:00',\n",
       " '2019-08-29 00:00:00', '2019-08-29 00:00:00', '2019-09-01 00:00:00',\n",
       " '2019-09-01 00:00:00', '2019-09-03 00:00:00', '2019-09-09 00:00:00',\n",
       " '2019-09-09 00:00:00', '2019-09-11 00:00:00', '2019-09-12 00:00:00',\n",
       " '2019-09-13 00:00:00', '2019-09-17 00:00:00', '2019-09-17 00:00:00',\n",
       " '2019-09-22 00:00:00', '2019-09-22 00:00:00', '2019-09-23 00:00:00',\n",
       " '2019-09-24 00:00:00', '2019-09-29 00:00:00', '2019-09-30 00:00:00']\n",
       "Length: 30, dtype: datetime64[ns]"
      ]
     },
     "execution_count": 15,
     "metadata": {},
     "output_type": "execute_result"
    }
   ],
   "source": [
    "ts_d[\"TIME\"].array"
   ]
  },
  {
   "cell_type": "code",
   "execution_count": 16,
   "metadata": {},
   "outputs": [],
   "source": [
    "def get_ts_array(type):\n",
    "    tsg = TSG.TimeSeriesGenerator()\n",
    "    ts = TS.TimeSeries()\n",
    "\n",
    "    if type == \"d\":\n",
    "        ts.set_ts_list(tsg.generate_day_data(), [\"TIME\", \"VALUE\"])\n",
    "    elif type == \"w\":\n",
    "        ts.set_ts_list(tsg.generate_week_data(), [\"TIME\", \"VALUE\"])\n",
    "    elif type == \"m\" or type == \"y\":\n",
    "        ts.set_ts_list(tsg.generate_month_data(), [\"TIME\", \"VALUE\"])\n",
    "\n",
    "    ts_d = ts.get_ts_df()\n",
    "\n",
    "    return ts_d[\"TIME\"].array"
   ]
  },
  {
   "cell_type": "code",
   "execution_count": 17,
   "metadata": {},
   "outputs": [],
   "source": [
    "cas = get_ts_array(\"d\")"
   ]
  },
  {
   "cell_type": "code",
   "execution_count": 18,
   "metadata": {},
   "outputs": [
    {
     "data": {
      "text/plain": [
       "array([20190801, 20190805, 20190809, 20190811, 20190813, 20190822,\n",
       "       20190824, 20190825, 20190826, 20190827, 20190827, 20190828,\n",
       "       20190829, 20190829, 20190901, 20190901, 20190903, 20190909,\n",
       "       20190909, 20190911, 20190912, 20190913, 20190917, 20190917,\n",
       "       20190922, 20190922, 20190923, 20190924, 20190929, 20190930])"
      ]
     },
     "execution_count": 18,
     "metadata": {},
     "output_type": "execute_result"
    }
   ],
   "source": [
    "cas_t = ((cas.year + cas.month/100 + cas.day/10000) * 10000).astype(int)\n",
    "cas_t"
   ]
  },
  {
   "cell_type": "code",
   "execution_count": 19,
   "metadata": {},
   "outputs": [],
   "source": [
    "n = 10\n",
    "upper = 28"
   ]
  },
  {
   "cell_type": "code",
   "execution_count": 20,
   "metadata": {},
   "outputs": [],
   "source": [
    "data = [(datetime.datetime(\n",
    "            year=2019,\n",
    "            month=random.randint(8, 9),\n",
    "            day=random.randint(1, 30)\n",
    "        ), random.randint(1, upper)) for i in range(0, n)]"
   ]
  },
  {
   "cell_type": "code",
   "execution_count": 21,
   "metadata": {},
   "outputs": [
    {
     "data": {
      "text/plain": [
       "[(datetime.datetime(2019, 9, 1, 0, 0), 12),\n",
       " (datetime.datetime(2019, 8, 13, 0, 0), 18),\n",
       " (datetime.datetime(2019, 8, 21, 0, 0), 10),\n",
       " (datetime.datetime(2019, 9, 25, 0, 0), 21),\n",
       " (datetime.datetime(2019, 8, 18, 0, 0), 16),\n",
       " (datetime.datetime(2019, 8, 5, 0, 0), 18),\n",
       " (datetime.datetime(2019, 9, 13, 0, 0), 25),\n",
       " (datetime.datetime(2019, 9, 2, 0, 0), 1),\n",
       " (datetime.datetime(2019, 8, 15, 0, 0), 7),\n",
       " (datetime.datetime(2019, 8, 9, 0, 0), 26)]"
      ]
     },
     "execution_count": 21,
     "metadata": {},
     "output_type": "execute_result"
    }
   ],
   "source": [
    "data"
   ]
  }
 ],
 "metadata": {
  "anaconda-cloud": {},
  "kernelspec": {
   "display_name": "Python 3",
   "language": "python",
   "name": "python3"
  },
  "language_info": {
   "codemirror_mode": {
    "name": "ipython",
    "version": 3
   },
   "file_extension": ".py",
   "mimetype": "text/x-python",
   "name": "python",
   "nbconvert_exporter": "python",
   "pygments_lexer": "ipython3",
   "version": "3.7.3"
  }
 },
 "nbformat": 4,
 "nbformat_minor": 2
}
