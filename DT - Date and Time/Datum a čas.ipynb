{
 "cells": [
  {
   "cell_type": "markdown",
   "metadata": {},
   "source": [
    "## Datum a čas"
   ]
  },
  {
   "cell_type": "code",
   "execution_count": 1,
   "metadata": {
    "collapsed": true
   },
   "outputs": [],
   "source": [
    "import datetime\n",
    "import time\n",
    "from time import gmtime, strftime\n",
    "import pandas as pd"
   ]
  },
  {
   "cell_type": "markdown",
   "metadata": {},
   "source": [
    "### Aktuální datum a čas"
   ]
  },
  {
   "cell_type": "code",
   "execution_count": 2,
   "metadata": {
    "collapsed": false
   },
   "outputs": [
    {
     "name": "stdout",
     "output_type": "stream",
     "text": [
      "2019-09-09 06-06-21\n",
      "2019-09-09 08-06-21\n"
     ]
    }
   ],
   "source": [
    "from time import gmtime, strftime\n",
    "print(strftime(\"%Y-%m-%d %H-%M-%S\", gmtime()))\n",
    "print(datetime.datetime.now().strftime(\"%Y-%m-%d %H-%M-%S\"))"
   ]
  },
  {
   "cell_type": "markdown",
   "metadata": {},
   "source": [
    "### Datum z jednotlivých dní\n",
    "\n",
    "Použito v:\n",
    "* Vykonia zpracování dat"
   ]
  },
  {
   "cell_type": "code",
   "execution_count": 3,
   "metadata": {
    "collapsed": true
   },
   "outputs": [],
   "source": [
    "#datum ve formátu \"yyyymmddhh24\n",
    "datumString = \"2017030823\""
   ]
  },
  {
   "cell_type": "code",
   "execution_count": 4,
   "metadata": {
    "collapsed": false
   },
   "outputs": [
    {
     "name": "stdout",
     "output_type": "stream",
     "text": [
      "2017-03-08 23:00:00\n",
      "2017-03-12 00:00:00\n"
     ]
    }
   ],
   "source": [
    "#datum jako datetime\n",
    "datum1 = datetime.datetime(\n",
    "    year = int(datumString[0:4]), \n",
    "    month = int(datumString[4:6]), \n",
    "    day = int(datumString[6:8]),\n",
    "    hour = int(datumString[8:10])\n",
    ")\n",
    "datum2 = datetime.datetime.strptime('2017-03-12', '%Y-%m-%d')\n",
    "\n",
    "print(datum1)\n",
    "print(datum2)"
   ]
  },
  {
   "cell_type": "code",
   "execution_count": 5,
   "metadata": {
    "collapsed": false
   },
   "outputs": [
    {
     "name": "stdout",
     "output_type": "stream",
     "text": [
      "1489010400.0\n"
     ]
    }
   ],
   "source": [
    "#timestamp\n",
    "ts = time.mktime(datum1.timetuple())\n",
    "print(ts)"
   ]
  },
  {
   "cell_type": "code",
   "execution_count": 6,
   "metadata": {
    "collapsed": false
   },
   "outputs": [
    {
     "data": {
      "text/plain": [
       "datetime.datetime(2017, 3, 8, 23, 0)"
      ]
     },
     "execution_count": 6,
     "metadata": {},
     "output_type": "execute_result"
    }
   ],
   "source": [
    "#a zpět\n",
    "datetime.datetime.fromtimestamp(ts)"
   ]
  },
  {
   "cell_type": "markdown",
   "metadata": {},
   "source": [
    "### Čísla dnů, týdnů, měsíců"
   ]
  },
  {
   "cell_type": "code",
   "execution_count": 7,
   "metadata": {
    "collapsed": false
   },
   "outputs": [
    {
     "name": "stdout",
     "output_type": "stream",
     "text": [
      "Den týdne: 3\n",
      "Den týdne: Wed\n",
      "Den týdne: Wednesday\n"
     ]
    }
   ],
   "source": [
    "#den týdne\n",
    "print(\"Den týdne:\",datum1.strftime(\"%w\"))\n",
    "print(\"Den týdne:\",datum1.strftime(\"%a\"))\n",
    "print(\"Den týdne:\",datum1.strftime(\"%A\"))"
   ]
  },
  {
   "cell_type": "markdown",
   "metadata": {},
   "source": [
    "### Části"
   ]
  },
  {
   "cell_type": "code",
   "execution_count": 8,
   "metadata": {},
   "outputs": [],
   "source": [
    "datum = datetime.datetime.strptime('2017-03-12', '%Y-%m-%d')"
   ]
  },
  {
   "cell_type": "code",
   "execution_count": 9,
   "metadata": {},
   "outputs": [
    {
     "name": "stdout",
     "output_type": "stream",
     "text": [
      "0\n",
      "12\n",
      "3\n",
      "2017\n"
     ]
    }
   ],
   "source": [
    "print(datum.hour)\n",
    "print(datum.day)\n",
    "print(datum.month)\n",
    "print(datum.year)"
   ]
  },
  {
   "cell_type": "markdown",
   "metadata": {},
   "source": [
    "### Rozdíly"
   ]
  },
  {
   "cell_type": "code",
   "execution_count": 10,
   "metadata": {
    "collapsed": false
   },
   "outputs": [
    {
     "name": "stdout",
     "output_type": "stream",
     "text": [
      "3 days, 1:00:00\n"
     ]
    },
    {
     "data": {
      "text/plain": [
       "datetime.timedelta(days=3, seconds=3600)"
      ]
     },
     "execution_count": 10,
     "metadata": {},
     "output_type": "execute_result"
    }
   ],
   "source": [
    "rozdil = datum2-datum1\n",
    "print(rozdil)\n",
    "rozdil"
   ]
  },
  {
   "cell_type": "code",
   "execution_count": 11,
   "metadata": {
    "collapsed": false
   },
   "outputs": [
    {
     "name": "stdout",
     "output_type": "stream",
     "text": [
      "73.0\n"
     ]
    }
   ],
   "source": [
    "#rozdíl v hodinách\n",
    "print(rozdil.total_seconds()/60/60)"
   ]
  },
  {
   "cell_type": "markdown",
   "metadata": {},
   "source": [
    "## Časová řada"
   ]
  },
  {
   "cell_type": "code",
   "execution_count": 12,
   "metadata": {},
   "outputs": [],
   "source": [
    "datum = datetime.datetime.strptime('2017-03-12', '%Y-%m-%d')"
   ]
  },
  {
   "cell_type": "code",
   "execution_count": 13,
   "metadata": {},
   "outputs": [
    {
     "data": {
      "text/plain": [
       "datetime.datetime"
      ]
     },
     "execution_count": 13,
     "metadata": {},
     "output_type": "execute_result"
    }
   ],
   "source": [
    "type(datum)"
   ]
  },
  {
   "cell_type": "code",
   "execution_count": 14,
   "metadata": {},
   "outputs": [
    {
     "data": {
      "text/plain": [
       "2017"
      ]
     },
     "execution_count": 14,
     "metadata": {},
     "output_type": "execute_result"
    }
   ],
   "source": [
    "datum.year"
   ]
  },
  {
   "cell_type": "code",
   "execution_count": 15,
   "metadata": {},
   "outputs": [],
   "source": [
    "import random"
   ]
  },
  {
   "cell_type": "code",
   "execution_count": 16,
   "metadata": {},
   "outputs": [],
   "source": [
    "import random\n",
    "import numpy as np\n",
    "\n",
    "class TimeSeriesGenerator():\n",
    "    def __init__(self):\n",
    "        self.seed = 123\n",
    "        \n",
    "    def __set_seed(self):\n",
    "        random.seed(self.seed)\n",
    "        np.random.seed(self.seed)\n",
    "        \n",
    "    def __rand_int(self):\n",
    "        return random.randint(0,100)\n",
    "        \n",
    "    def generate_day_data(self, int_data=True, n=30):    \n",
    "        self.__set_seed()\n",
    "        if int_data:\n",
    "            upper = 100\n",
    "        else:\n",
    "            upper = 1\n",
    "        data = [(datetime.datetime(\n",
    "            year = 2019, \n",
    "            month = random.randint(8,9), \n",
    "            day = random.randint(1,30)\n",
    "        ), random.randint(1,upper)) for i in range(0,n)]\n",
    "                   \n",
    "        return data\n",
    "    \n",
    "    def generate_month_data(self, int_data=True, n=30):    \n",
    "        self.__set_seed()\n",
    "        if int_data:\n",
    "            upper = 100\n",
    "        else:\n",
    "            upper = 1\n",
    "        data = [(datetime.datetime(\n",
    "            year = random.randint(2018,2019), \n",
    "            month = random.randint(1,12), \n",
    "            day = random.randint(1,30)\n",
    "        ), random.randint(1,upper)) for i in range(0,n)]\n",
    "                   \n",
    "        return data\n",
    "    \n",
    "    def generate_week_data(self, int_data=True, n=30):    \n",
    "        self.__set_seed()\n",
    "        if int_data:\n",
    "            upper = 100\n",
    "        else:\n",
    "            upper = 1\n",
    "        data = [(datetime.datetime(\n",
    "            year = random.randint(2018,2019), \n",
    "            month = random.choice([11, 12, 1, 2]), \n",
    "            day = random.randint(1,30)\n",
    "        ), random.randint(1,upper)) for i in range(0,n)]\n",
    "                   \n",
    "        return data"
   ]
  },
  {
   "cell_type": "code",
   "execution_count": 17,
   "metadata": {},
   "outputs": [],
   "source": [
    "tsg = TimeSeriesGenerator()"
   ]
  },
  {
   "cell_type": "code",
   "execution_count": 18,
   "metadata": {},
   "outputs": [
    {
     "data": {
      "text/plain": [
       "[(datetime.datetime(2019, 8, 9, 0, 0), 1),\n",
       " (datetime.datetime(2019, 9, 9, 0, 0), 1),\n",
       " (datetime.datetime(2019, 8, 13, 0, 0), 1),\n",
       " (datetime.datetime(2019, 9, 28, 0, 0), 1)]"
      ]
     },
     "execution_count": 18,
     "metadata": {},
     "output_type": "execute_result"
    }
   ],
   "source": [
    "tsg.generate_day_data(False)[0:4]"
   ]
  },
  {
   "cell_type": "code",
   "execution_count": 19,
   "metadata": {},
   "outputs": [
    {
     "data": {
      "text/plain": [
       "[(datetime.datetime(2018, 1, 3, 0, 0), 99),\n",
       " (datetime.datetime(2019, 1, 4, 0, 0), 5),\n",
       " (datetime.datetime(2019, 1, 11, 0, 0), 7),\n",
       " (datetime.datetime(2018, 12, 11, 0, 0), 72)]"
      ]
     },
     "execution_count": 19,
     "metadata": {},
     "output_type": "execute_result"
    }
   ],
   "source": [
    "tsg.generate_week_data(True)[0:4]"
   ]
  },
  {
   "cell_type": "code",
   "execution_count": 20,
   "metadata": {},
   "outputs": [
    {
     "data": {
      "text/plain": [
       "[(datetime.datetime(2018, 5, 3, 0, 0), 1),\n",
       " (datetime.datetime(2019, 2, 27, 0, 0), 1),\n",
       " (datetime.datetime(2019, 9, 18, 0, 0), 1),\n",
       " (datetime.datetime(2019, 1, 6, 0, 0), 1)]"
      ]
     },
     "execution_count": 20,
     "metadata": {},
     "output_type": "execute_result"
    }
   ],
   "source": [
    "tsg.generate_month_data(False)[0:4]"
   ]
  },
  {
   "cell_type": "code",
   "execution_count": 21,
   "metadata": {},
   "outputs": [],
   "source": [
    "data = tsg.generate_day_data(False)"
   ]
  },
  {
   "cell_type": "code",
   "execution_count": 45,
   "metadata": {},
   "outputs": [
    {
     "data": {
      "text/plain": [
       "2"
      ]
     },
     "execution_count": 45,
     "metadata": {},
     "output_type": "execute_result"
    }
   ],
   "source": [
    "len(data[0])"
   ]
  },
  {
   "cell_type": "code",
   "execution_count": 43,
   "metadata": {},
   "outputs": [
    {
     "data": {
      "text/html": [
       "<div>\n",
       "<style scoped>\n",
       "    .dataframe tbody tr th:only-of-type {\n",
       "        vertical-align: middle;\n",
       "    }\n",
       "\n",
       "    .dataframe tbody tr th {\n",
       "        vertical-align: top;\n",
       "    }\n",
       "\n",
       "    .dataframe thead th {\n",
       "        text-align: right;\n",
       "    }\n",
       "</style>\n",
       "<table border=\"1\" class=\"dataframe\">\n",
       "  <thead>\n",
       "    <tr style=\"text-align: right;\">\n",
       "      <th></th>\n",
       "      <th>TIME</th>\n",
       "      <th>VALUES</th>\n",
       "    </tr>\n",
       "  </thead>\n",
       "  <tbody>\n",
       "    <tr>\n",
       "      <th>0</th>\n",
       "      <td>2019-08-09</td>\n",
       "      <td>1</td>\n",
       "    </tr>\n",
       "    <tr>\n",
       "      <th>1</th>\n",
       "      <td>2019-09-09</td>\n",
       "      <td>1</td>\n",
       "    </tr>\n",
       "    <tr>\n",
       "      <th>2</th>\n",
       "      <td>2019-08-13</td>\n",
       "      <td>1</td>\n",
       "    </tr>\n",
       "    <tr>\n",
       "      <th>3</th>\n",
       "      <td>2019-09-28</td>\n",
       "      <td>1</td>\n",
       "    </tr>\n",
       "    <tr>\n",
       "      <th>4</th>\n",
       "      <td>2019-08-05</td>\n",
       "      <td>1</td>\n",
       "    </tr>\n",
       "  </tbody>\n",
       "</table>\n",
       "</div>"
      ],
      "text/plain": [
       "        TIME  VALUES\n",
       "0 2019-08-09       1\n",
       "1 2019-09-09       1\n",
       "2 2019-08-13       1\n",
       "3 2019-09-28       1\n",
       "4 2019-08-05       1"
      ]
     },
     "execution_count": 43,
     "metadata": {},
     "output_type": "execute_result"
    }
   ],
   "source": [
    "df = pd.DataFrame(data)\n",
    "df.columns = [\"TIME\", \"VALUES\"]\n",
    "df.head()"
   ]
  },
  {
   "cell_type": "code",
   "execution_count": 40,
   "metadata": {},
   "outputs": [
    {
     "data": {
      "text/html": [
       "<div>\n",
       "<style scoped>\n",
       "    .dataframe tbody tr th:only-of-type {\n",
       "        vertical-align: middle;\n",
       "    }\n",
       "\n",
       "    .dataframe tbody tr th {\n",
       "        vertical-align: top;\n",
       "    }\n",
       "\n",
       "    .dataframe thead th {\n",
       "        text-align: right;\n",
       "    }\n",
       "</style>\n",
       "<table border=\"1\" class=\"dataframe\">\n",
       "  <thead>\n",
       "    <tr style=\"text-align: right;\">\n",
       "      <th></th>\n",
       "      <th>0</th>\n",
       "      <th>1</th>\n",
       "    </tr>\n",
       "  </thead>\n",
       "  <tbody>\n",
       "    <tr>\n",
       "      <th>6</th>\n",
       "      <td>2019-08-01</td>\n",
       "      <td>1</td>\n",
       "    </tr>\n",
       "    <tr>\n",
       "      <th>8</th>\n",
       "      <td>2019-08-01</td>\n",
       "      <td>1</td>\n",
       "    </tr>\n",
       "    <tr>\n",
       "      <th>4</th>\n",
       "      <td>2019-08-05</td>\n",
       "      <td>1</td>\n",
       "    </tr>\n",
       "    <tr>\n",
       "      <th>25</th>\n",
       "      <td>2019-08-07</td>\n",
       "      <td>1</td>\n",
       "    </tr>\n",
       "    <tr>\n",
       "      <th>0</th>\n",
       "      <td>2019-08-09</td>\n",
       "      <td>1</td>\n",
       "    </tr>\n",
       "    <tr>\n",
       "      <th>22</th>\n",
       "      <td>2019-08-11</td>\n",
       "      <td>1</td>\n",
       "    </tr>\n",
       "    <tr>\n",
       "      <th>27</th>\n",
       "      <td>2019-08-13</td>\n",
       "      <td>1</td>\n",
       "    </tr>\n",
       "    <tr>\n",
       "      <th>2</th>\n",
       "      <td>2019-08-13</td>\n",
       "      <td>1</td>\n",
       "    </tr>\n",
       "    <tr>\n",
       "      <th>17</th>\n",
       "      <td>2019-08-13</td>\n",
       "      <td>1</td>\n",
       "    </tr>\n",
       "    <tr>\n",
       "      <th>10</th>\n",
       "      <td>2019-08-22</td>\n",
       "      <td>1</td>\n",
       "    </tr>\n",
       "    <tr>\n",
       "      <th>20</th>\n",
       "      <td>2019-08-24</td>\n",
       "      <td>1</td>\n",
       "    </tr>\n",
       "    <tr>\n",
       "      <th>14</th>\n",
       "      <td>2019-08-25</td>\n",
       "      <td>1</td>\n",
       "    </tr>\n",
       "    <tr>\n",
       "      <th>11</th>\n",
       "      <td>2019-08-26</td>\n",
       "      <td>1</td>\n",
       "    </tr>\n",
       "    <tr>\n",
       "      <th>16</th>\n",
       "      <td>2019-08-27</td>\n",
       "      <td>1</td>\n",
       "    </tr>\n",
       "    <tr>\n",
       "      <th>7</th>\n",
       "      <td>2019-08-29</td>\n",
       "      <td>1</td>\n",
       "    </tr>\n",
       "    <tr>\n",
       "      <th>26</th>\n",
       "      <td>2019-09-01</td>\n",
       "      <td>1</td>\n",
       "    </tr>\n",
       "    <tr>\n",
       "      <th>9</th>\n",
       "      <td>2019-09-04</td>\n",
       "      <td>1</td>\n",
       "    </tr>\n",
       "    <tr>\n",
       "      <th>29</th>\n",
       "      <td>2019-09-06</td>\n",
       "      <td>1</td>\n",
       "    </tr>\n",
       "    <tr>\n",
       "      <th>13</th>\n",
       "      <td>2019-09-09</td>\n",
       "      <td>1</td>\n",
       "    </tr>\n",
       "    <tr>\n",
       "      <th>1</th>\n",
       "      <td>2019-09-09</td>\n",
       "      <td>1</td>\n",
       "    </tr>\n",
       "    <tr>\n",
       "      <th>24</th>\n",
       "      <td>2019-09-13</td>\n",
       "      <td>1</td>\n",
       "    </tr>\n",
       "    <tr>\n",
       "      <th>28</th>\n",
       "      <td>2019-09-16</td>\n",
       "      <td>1</td>\n",
       "    </tr>\n",
       "    <tr>\n",
       "      <th>18</th>\n",
       "      <td>2019-09-17</td>\n",
       "      <td>1</td>\n",
       "    </tr>\n",
       "    <tr>\n",
       "      <th>19</th>\n",
       "      <td>2019-09-17</td>\n",
       "      <td>1</td>\n",
       "    </tr>\n",
       "    <tr>\n",
       "      <th>15</th>\n",
       "      <td>2019-09-17</td>\n",
       "      <td>1</td>\n",
       "    </tr>\n",
       "    <tr>\n",
       "      <th>21</th>\n",
       "      <td>2019-09-22</td>\n",
       "      <td>1</td>\n",
       "    </tr>\n",
       "    <tr>\n",
       "      <th>5</th>\n",
       "      <td>2019-09-23</td>\n",
       "      <td>1</td>\n",
       "    </tr>\n",
       "    <tr>\n",
       "      <th>3</th>\n",
       "      <td>2019-09-28</td>\n",
       "      <td>1</td>\n",
       "    </tr>\n",
       "    <tr>\n",
       "      <th>23</th>\n",
       "      <td>2019-09-29</td>\n",
       "      <td>1</td>\n",
       "    </tr>\n",
       "    <tr>\n",
       "      <th>12</th>\n",
       "      <td>2019-09-30</td>\n",
       "      <td>1</td>\n",
       "    </tr>\n",
       "  </tbody>\n",
       "</table>\n",
       "</div>"
      ],
      "text/plain": [
       "            0  1\n",
       "6  2019-08-01  1\n",
       "8  2019-08-01  1\n",
       "4  2019-08-05  1\n",
       "25 2019-08-07  1\n",
       "0  2019-08-09  1\n",
       "22 2019-08-11  1\n",
       "27 2019-08-13  1\n",
       "2  2019-08-13  1\n",
       "17 2019-08-13  1\n",
       "10 2019-08-22  1\n",
       "20 2019-08-24  1\n",
       "14 2019-08-25  1\n",
       "11 2019-08-26  1\n",
       "16 2019-08-27  1\n",
       "7  2019-08-29  1\n",
       "26 2019-09-01  1\n",
       "9  2019-09-04  1\n",
       "29 2019-09-06  1\n",
       "13 2019-09-09  1\n",
       "1  2019-09-09  1\n",
       "24 2019-09-13  1\n",
       "28 2019-09-16  1\n",
       "18 2019-09-17  1\n",
       "19 2019-09-17  1\n",
       "15 2019-09-17  1\n",
       "21 2019-09-22  1\n",
       "5  2019-09-23  1\n",
       "3  2019-09-28  1\n",
       "23 2019-09-29  1\n",
       "12 2019-09-30  1"
      ]
     },
     "execution_count": 40,
     "metadata": {},
     "output_type": "execute_result"
    }
   ],
   "source": [
    "df.sort_values(by=0, inplace=True)\n",
    "df"
   ]
  },
  {
   "cell_type": "code",
   "execution_count": 23,
   "metadata": {},
   "outputs": [
    {
     "data": {
      "text/plain": [
       "0    datetime64[ns]\n",
       "1             int64\n",
       "dtype: object"
      ]
     },
     "execution_count": 23,
     "metadata": {},
     "output_type": "execute_result"
    }
   ],
   "source": [
    "df.dtypes"
   ]
  },
  {
   "cell_type": "code",
   "execution_count": 29,
   "metadata": {},
   "outputs": [
    {
     "data": {
      "text/plain": [
       "2019-08-09    1\n",
       "2019-09-09    1\n",
       "2019-08-13    1\n",
       "2019-09-28    1\n",
       "2019-08-05    1\n",
       "2019-09-23    1\n",
       "2019-08-01    1\n",
       "2019-08-29    1\n",
       "2019-09-04    1\n",
       "2019-08-22    1\n",
       "2019-08-26    1\n",
       "2019-09-30    1\n",
       "2019-08-25    1\n",
       "2019-09-17    1\n",
       "2019-08-27    1\n",
       "2019-08-24    1\n",
       "2019-09-22    1\n",
       "2019-08-11    1\n",
       "2019-09-29    1\n",
       "2019-09-13    1\n",
       "2019-08-07    1\n",
       "2019-09-01    1\n",
       "2019-09-16    1\n",
       "2019-09-06    1\n",
       "dtype: int64"
      ]
     },
     "execution_count": 29,
     "metadata": {},
     "output_type": "execute_result"
    }
   ],
   "source": [
    "ts = pd.Series(dict(data))\n",
    "ts"
   ]
  },
  {
   "cell_type": "code",
   "execution_count": 30,
   "metadata": {},
   "outputs": [],
   "source": [
    "# ts_list = list(zip(*data))\n",
    "# ts = pd.Series(ts_list[1], index=ts_list[0])\n",
    "# ts"
   ]
  },
  {
   "cell_type": "code",
   "execution_count": 31,
   "metadata": {},
   "outputs": [
    {
     "data": {
      "text/plain": [
       "2019-08-01    1\n",
       "2019-08-05    1\n",
       "2019-08-07    1\n",
       "2019-08-09    1\n",
       "2019-08-11    1\n",
       "2019-08-13    1\n",
       "2019-08-22    1\n",
       "2019-08-24    1\n",
       "2019-08-25    1\n",
       "2019-08-26    1\n",
       "2019-08-27    1\n",
       "2019-08-29    1\n",
       "2019-09-01    1\n",
       "2019-09-04    1\n",
       "2019-09-06    1\n",
       "2019-09-09    1\n",
       "2019-09-13    1\n",
       "2019-09-16    1\n",
       "2019-09-17    1\n",
       "2019-09-22    1\n",
       "2019-09-23    1\n",
       "2019-09-28    1\n",
       "2019-09-29    1\n",
       "2019-09-30    1\n",
       "dtype: int64"
      ]
     },
     "execution_count": 31,
     "metadata": {},
     "output_type": "execute_result"
    }
   ],
   "source": [
    "ts.sort_index()"
   ]
  },
  {
   "cell_type": "code",
   "execution_count": 32,
   "metadata": {},
   "outputs": [
    {
     "name": "stdout",
     "output_type": "stream",
     "text": [
      "<class 'pandas.core.series.Series'>\n"
     ]
    }
   ],
   "source": [
    "print(type(ts))"
   ]
  },
  {
   "cell_type": "code",
   "execution_count": 33,
   "metadata": {},
   "outputs": [
    {
     "data": {
      "text/plain": [
       "pandas.core.indexes.datetimes.DatetimeIndex"
      ]
     },
     "execution_count": 33,
     "metadata": {},
     "output_type": "execute_result"
    }
   ],
   "source": [
    "type(ts.index)"
   ]
  },
  {
   "cell_type": "markdown",
   "metadata": {},
   "source": [
    "## Time Series"
   ]
  },
  {
   "cell_type": "code",
   "execution_count": null,
   "metadata": {},
   "outputs": [],
   "source": [
    "import pandas as pd\n",
    "\"\"\"\n",
    "tests\n",
    "* column types\n",
    "* shape\n",
    "\"\"\"\n",
    "class TimeSeries():\n",
    "    def __init__(self):\n",
    "        self.ts_list = None\n",
    "    \n",
    "    def set_ts_list(self, ts_list, col_names):\n",
    "        \"\"\"\n",
    "        Set the time series.\n",
    "        \n",
    "        :param ts_list: List. List of tuples (timestamp, value).\n",
    "        :param col_names: List. Name of time column and name of data column.\n",
    "        \"\"\"\n",
    "        \n",
    "        self.ts_list = ts_list\n",
    "        self.col_names = col_names\n",
    "        \n",
    "    def get_ts_series(self):\n",
    "        \"\"\"\n",
    "        Get ts as pandas.Series.\n",
    "        \n",
    "        :returns: pandas.series.\n",
    "        \"\"\"\n",
    "        # TO DO - name columns\n",
    "        ts = pd.Series(dict(self.ts_list))\n",
    "        ts.sort_index()\n",
    "        \n",
    "        return ts\n",
    "    \n",
    "    def get_ts_df(self):\n",
    "        \"\"\"\n",
    "        Get ts as pandas.DataFrame sorted by time.\n",
    "        \n",
    "        :returns: pandas.DataFrame.\n",
    "        \"\"\"\n",
    "        # TO DO - name columns\n",
    "        df = pd.DataFrame(self.ts_list)\n",
    "        df.columns = self.col_names\n",
    "        df.sort_values(by=0, inplace=True)\n",
    "        \n",
    "        return df"
   ]
  }
 ],
 "metadata": {
  "anaconda-cloud": {},
  "kernelspec": {
   "display_name": "Python 3",
   "language": "python",
   "name": "python3"
  },
  "language_info": {
   "codemirror_mode": {
    "name": "ipython",
    "version": 3
   },
   "file_extension": ".py",
   "mimetype": "text/x-python",
   "name": "python",
   "nbconvert_exporter": "python",
   "pygments_lexer": "ipython3",
   "version": "3.7.3"
  }
 },
 "nbformat": 4,
 "nbformat_minor": 2
}
