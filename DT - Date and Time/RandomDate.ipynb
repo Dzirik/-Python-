{
 "cells": [
  {
   "cell_type": "markdown",
   "metadata": {},
   "source": [
    "# Random Date"
   ]
  },
  {
   "cell_type": "markdown",
   "metadata": {},
   "source": [
    "## Zajímavá funkce"
   ]
  },
  {
   "cell_type": "code",
   "execution_count": 1,
   "metadata": {},
   "outputs": [],
   "source": [
    "from datetime import datetime, timedelta\n",
    "import random\n",
    "import numpy as np"
   ]
  },
  {
   "cell_type": "code",
   "execution_count": 2,
   "metadata": {},
   "outputs": [],
   "source": [
    "def get_random_datetime(min_year=1900, max_year=datetime.now().year):\n",
    "    # generate a datetime in format yyyy-mm-dd hh:mm:ss.000000\n",
    "    start = datetime(min_year, 1, 1, 0, 0, 0)\n",
    "    n_years = max_year - min_year + 1\n",
    "    end = start + timedelta(days=365.25 * n_years)\n",
    "    \n",
    "    return start + (end - start) * random.random()"
   ]
  },
  {
   "cell_type": "code",
   "execution_count": 3,
   "metadata": {},
   "outputs": [
    {
     "data": {
      "text/plain": [
       "datetime.datetime"
      ]
     },
     "execution_count": 3,
     "metadata": {},
     "output_type": "execute_result"
    }
   ],
   "source": [
    "type(get_random_datetime())"
   ]
  },
  {
   "cell_type": "code",
   "execution_count": 4,
   "metadata": {},
   "outputs": [
    {
     "data": {
      "text/plain": [
       "datetime.datetime(1988, 6, 30, 1, 15, 43, 185891)"
      ]
     },
     "execution_count": 4,
     "metadata": {},
     "output_type": "execute_result"
    }
   ],
   "source": [
    "get_random_datetime()"
   ]
  },
  {
   "cell_type": "code",
   "execution_count": 5,
   "metadata": {},
   "outputs": [
    {
     "name": "stdout",
     "output_type": "stream",
     "text": [
      "<class 'numpy.ndarray'>\n"
     ]
    },
    {
     "data": {
      "text/plain": [
       "array([datetime.datetime(1916, 2, 16, 4, 26, 8, 400182),\n",
       "       datetime.datetime(2001, 9, 11, 0, 29, 47, 612450),\n",
       "       datetime.datetime(1991, 8, 28, 5, 47, 49, 897967),\n",
       "       datetime.datetime(1930, 8, 11, 16, 12, 34, 400925),\n",
       "       datetime.datetime(1959, 6, 15, 22, 4, 36, 529516),\n",
       "       datetime.datetime(1953, 12, 10, 4, 38, 27, 141250),\n",
       "       datetime.datetime(1978, 3, 12, 7, 40, 47, 519504),\n",
       "       datetime.datetime(1994, 8, 25, 17, 52, 3, 95288),\n",
       "       datetime.datetime(1911, 4, 7, 20, 46, 35, 470391)], dtype=object)"
      ]
     },
     "execution_count": 5,
     "metadata": {},
     "output_type": "execute_result"
    }
   ],
   "source": [
    "random.seed(1)\n",
    "ts = np.array([get_random_datetime() for x in range(1,10)])\n",
    "print(type(ts))\n",
    "ts"
   ]
  },
  {
   "cell_type": "markdown",
   "metadata": {},
   "source": [
    "## Faker"
   ]
  },
  {
   "cell_type": "markdown",
   "metadata": {},
   "source": [
    "[Faker](https://stackoverflow.com/questions/553303/generate-a-random-date-between-two-other-dates)"
   ]
  },
  {
   "cell_type": "code",
   "execution_count": 6,
   "metadata": {},
   "outputs": [],
   "source": [
    "import faker"
   ]
  },
  {
   "cell_type": "code",
   "execution_count": 7,
   "metadata": {},
   "outputs": [
    {
     "name": "stdout",
     "output_type": "stream",
     "text": [
      "2032-04-03\n",
      "1993-07-10 06:02:05\n",
      "2036-04-10\n"
     ]
    }
   ],
   "source": [
    "from faker import Faker\n",
    "fake = Faker()\n",
    "\n",
    "print(fake.date_between(start_date='today', end_date='+30y'))\n",
    "# datetime.date(2025, 3, 12)\n",
    "\n",
    "print(fake.date_time_between(start_date='-30y', end_date='now'))\n",
    "# datetime.datetime(2007, 2, 28, 11, 28, 16)\n",
    "\n",
    "# Or if you need a more specific date boundaries, provide the start \n",
    "# and end dates explicitly.\n",
    "import datetime\n",
    "start_date = datetime.date(year=2015, month=1, day=1)\n",
    "print(fake.date_between(start_date=start_date, end_date='+30y'))"
   ]
  },
  {
   "cell_type": "markdown",
   "metadata": {},
   "source": [
    "## Pro účely testování\n",
    "\n",
    "Více v tříde DateTimeGenerator, která je mimo."
   ]
  },
  {
   "cell_type": "code",
   "execution_count": 8,
   "metadata": {},
   "outputs": [],
   "source": [
    "import DateTimeGenerator as DTG"
   ]
  },
  {
   "cell_type": "code",
   "execution_count": 9,
   "metadata": {},
   "outputs": [],
   "source": [
    "dtg = DTG.DateTimeGenerator()"
   ]
  },
  {
   "cell_type": "code",
   "execution_count": 10,
   "metadata": {},
   "outputs": [
    {
     "data": {
      "text/plain": [
       "(1903, 7, 14)"
      ]
     },
     "execution_count": 10,
     "metadata": {},
     "output_type": "execute_result"
    }
   ],
   "source": [
    "dtg.generate_date()"
   ]
  }
 ],
 "metadata": {
  "kernelspec": {
   "display_name": "Python 3",
   "language": "python",
   "name": "python3"
  },
  "language_info": {
   "codemirror_mode": {
    "name": "ipython",
    "version": 3
   },
   "file_extension": ".py",
   "mimetype": "text/x-python",
   "name": "python",
   "nbconvert_exporter": "python",
   "pygments_lexer": "ipython3",
   "version": "3.7.3"
  }
 },
 "nbformat": 4,
 "nbformat_minor": 2
}
