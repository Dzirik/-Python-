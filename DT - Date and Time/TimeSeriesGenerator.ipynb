{
 "cells": [
  {
   "cell_type": "markdown",
   "metadata": {},
   "source": [
    "# Time Series Generator"
   ]
  },
  {
   "cell_type": "code",
   "execution_count": 1,
   "metadata": {},
   "outputs": [],
   "source": [
    "import TimeSeriesGenerator as TSG"
   ]
  },
  {
   "cell_type": "code",
   "execution_count": 2,
   "metadata": {},
   "outputs": [],
   "source": [
    "tsg = TSG.TimeSeriesGenerator()"
   ]
  },
  {
   "cell_type": "code",
   "execution_count": 3,
   "metadata": {},
   "outputs": [
    {
     "data": {
      "text/plain": [
       "[(datetime.datetime(2019, 8, 9, 0, 0), 1),\n",
       " (datetime.datetime(2019, 9, 9, 0, 0), 1),\n",
       " (datetime.datetime(2019, 8, 13, 0, 0), 1),\n",
       " (datetime.datetime(2019, 9, 28, 0, 0), 1),\n",
       " (datetime.datetime(2019, 8, 5, 0, 0), 1),\n",
       " (datetime.datetime(2019, 9, 23, 0, 0), 1),\n",
       " (datetime.datetime(2019, 8, 1, 0, 0), 1),\n",
       " (datetime.datetime(2019, 8, 29, 0, 0), 1),\n",
       " (datetime.datetime(2019, 8, 1, 0, 0), 1),\n",
       " (datetime.datetime(2019, 9, 4, 0, 0), 1),\n",
       " (datetime.datetime(2019, 8, 22, 0, 0), 1),\n",
       " (datetime.datetime(2019, 8, 26, 0, 0), 1),\n",
       " (datetime.datetime(2019, 9, 30, 0, 0), 1),\n",
       " (datetime.datetime(2019, 9, 9, 0, 0), 1),\n",
       " (datetime.datetime(2019, 8, 25, 0, 0), 1),\n",
       " (datetime.datetime(2019, 9, 17, 0, 0), 1),\n",
       " (datetime.datetime(2019, 8, 27, 0, 0), 1),\n",
       " (datetime.datetime(2019, 8, 13, 0, 0), 1),\n",
       " (datetime.datetime(2019, 9, 17, 0, 0), 1),\n",
       " (datetime.datetime(2019, 9, 17, 0, 0), 1),\n",
       " (datetime.datetime(2019, 8, 24, 0, 0), 1),\n",
       " (datetime.datetime(2019, 9, 22, 0, 0), 1),\n",
       " (datetime.datetime(2019, 8, 11, 0, 0), 1),\n",
       " (datetime.datetime(2019, 9, 29, 0, 0), 1),\n",
       " (datetime.datetime(2019, 9, 13, 0, 0), 1),\n",
       " (datetime.datetime(2019, 8, 7, 0, 0), 1),\n",
       " (datetime.datetime(2019, 9, 1, 0, 0), 1),\n",
       " (datetime.datetime(2019, 8, 13, 0, 0), 1),\n",
       " (datetime.datetime(2019, 9, 16, 0, 0), 1),\n",
       " (datetime.datetime(2019, 9, 6, 0, 0), 1)]"
      ]
     },
     "execution_count": 3,
     "metadata": {},
     "output_type": "execute_result"
    }
   ],
   "source": [
    "tsg.generate_day_data(False)"
   ]
  },
  {
   "cell_type": "code",
   "execution_count": 4,
   "metadata": {},
   "outputs": [
    {
     "data": {
      "text/plain": [
       "[(datetime.datetime(2018, 1, 3, 0, 0), 99),\n",
       " (datetime.datetime(2019, 1, 4, 0, 0), 5),\n",
       " (datetime.datetime(2019, 1, 11, 0, 0), 7),\n",
       " (datetime.datetime(2018, 12, 11, 0, 0), 72),\n",
       " (datetime.datetime(2019, 12, 6, 0, 0), 1),\n",
       " (datetime.datetime(2019, 11, 29, 0, 0), 77),\n",
       " (datetime.datetime(2019, 11, 1, 0, 0), 41),\n",
       " (datetime.datetime(2019, 11, 29, 0, 0), 6),\n",
       " (datetime.datetime(2018, 12, 5, 0, 0), 3),\n",
       " (datetime.datetime(2019, 2, 19, 0, 0), 62),\n",
       " (datetime.datetime(2019, 2, 27, 0, 0), 5),\n",
       " (datetime.datetime(2019, 1, 17, 0, 0), 62),\n",
       " (datetime.datetime(2018, 1, 1, 0, 0), 51),\n",
       " (datetime.datetime(2019, 2, 17, 0, 0), 86),\n",
       " (datetime.datetime(2019, 1, 17, 0, 0), 5),\n",
       " (datetime.datetime(2018, 11, 30, 0, 0), 63),\n",
       " (datetime.datetime(2019, 12, 11, 0, 0), 44),\n",
       " (datetime.datetime(2019, 11, 24, 0, 0), 59),\n",
       " (datetime.datetime(2019, 1, 1, 0, 0), 25),\n",
       " (datetime.datetime(2018, 1, 1, 0, 0), 46),\n",
       " (datetime.datetime(2018, 2, 18, 0, 0), 65),\n",
       " (datetime.datetime(2018, 1, 16, 0, 0), 98),\n",
       " (datetime.datetime(2018, 2, 6, 0, 0), 20),\n",
       " (datetime.datetime(2019, 2, 25, 0, 0), 60),\n",
       " (datetime.datetime(2018, 11, 5, 0, 0), 59),\n",
       " (datetime.datetime(2018, 11, 9, 0, 0), 46),\n",
       " (datetime.datetime(2019, 2, 21, 0, 0), 54),\n",
       " (datetime.datetime(2018, 11, 20, 0, 0), 9),\n",
       " (datetime.datetime(2019, 11, 3, 0, 0), 56),\n",
       " (datetime.datetime(2018, 2, 3, 0, 0), 70)]"
      ]
     },
     "execution_count": 4,
     "metadata": {},
     "output_type": "execute_result"
    }
   ],
   "source": [
    "tsg.generate_week_data(True)"
   ]
  },
  {
   "cell_type": "code",
   "execution_count": 5,
   "metadata": {},
   "outputs": [
    {
     "data": {
      "text/plain": [
       "[(datetime.datetime(2018, 5, 3, 0, 0), 1),\n",
       " (datetime.datetime(2019, 2, 27, 0, 0), 1),\n",
       " (datetime.datetime(2019, 9, 18, 0, 0), 1),\n",
       " (datetime.datetime(2019, 1, 6, 0, 0), 1),\n",
       " (datetime.datetime(2019, 9, 11, 0, 0), 1),\n",
       " (datetime.datetime(2018, 1, 29, 0, 0), 1),\n",
       " (datetime.datetime(2018, 10, 13, 0, 0), 1),\n",
       " (datetime.datetime(2018, 6, 24, 0, 0), 1),\n",
       " (datetime.datetime(2018, 1, 3, 0, 0), 1),\n",
       " (datetime.datetime(2018, 1, 10, 0, 0), 1),\n",
       " (datetime.datetime(2019, 5, 16, 0, 0), 1),\n",
       " (datetime.datetime(2019, 6, 17, 0, 0), 1),\n",
       " (datetime.datetime(2018, 10, 21, 0, 0), 1),\n",
       " (datetime.datetime(2018, 7, 29, 0, 0), 1),\n",
       " (datetime.datetime(2019, 9, 22, 0, 0), 1),\n",
       " (datetime.datetime(2019, 9, 2, 0, 0), 1),\n",
       " (datetime.datetime(2018, 8, 22, 0, 0), 1),\n",
       " (datetime.datetime(2018, 6, 11, 0, 0), 1),\n",
       " (datetime.datetime(2018, 12, 15, 0, 0), 1),\n",
       " (datetime.datetime(2019, 1, 7, 0, 0), 1),\n",
       " (datetime.datetime(2019, 1, 29, 0, 0), 1),\n",
       " (datetime.datetime(2018, 7, 18, 0, 0), 1),\n",
       " (datetime.datetime(2019, 8, 25, 0, 0), 1),\n",
       " (datetime.datetime(2019, 3, 5, 0, 0), 1),\n",
       " (datetime.datetime(2019, 8, 2, 0, 0), 1),\n",
       " (datetime.datetime(2018, 8, 7, 0, 0), 1),\n",
       " (datetime.datetime(2019, 6, 22, 0, 0), 1),\n",
       " (datetime.datetime(2019, 11, 14, 0, 0), 1),\n",
       " (datetime.datetime(2018, 10, 3, 0, 0), 1),\n",
       " (datetime.datetime(2018, 2, 14, 0, 0), 1)]"
      ]
     },
     "execution_count": 5,
     "metadata": {},
     "output_type": "execute_result"
    }
   ],
   "source": [
    "tsg.generate_month_data(False)"
   ]
  }
 ],
 "metadata": {
  "kernelspec": {
   "display_name": "Python 3",
   "language": "python",
   "name": "python3"
  },
  "language_info": {
   "codemirror_mode": {
    "name": "ipython",
    "version": 3
   },
   "file_extension": ".py",
   "mimetype": "text/x-python",
   "name": "python",
   "nbconvert_exporter": "python",
   "pygments_lexer": "ipython3",
   "version": "3.7.3"
  }
 },
 "nbformat": 4,
 "nbformat_minor": 2
}
